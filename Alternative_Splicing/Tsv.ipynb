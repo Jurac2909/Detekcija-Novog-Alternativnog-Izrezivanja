{
 "cells": [
  {
   "cell_type": "code",
   "execution_count": 2,
   "id": "0225a7dd",
   "metadata": {},
   "outputs": [
    {
     "name": "stderr",
     "output_type": "stream",
     "text": [
      "[nltk_data] Downloading package punkt to\n",
      "[nltk_data]     C:\\Users\\jjurc\\AppData\\Roaming\\nltk_data...\n",
      "[nltk_data]   Package punkt is already up-to-date!\n"
     ]
    },
    {
     "data": {
      "text/plain": [
       "True"
      ]
     },
     "execution_count": 2,
     "metadata": {},
     "output_type": "execute_result"
    }
   ],
   "source": [
    "import numpy as nc \n",
    "import matplotlib as mpl\n",
    "import matplotlib.pyplot as plt\n",
    "import nltk\n",
    "from nltk.tokenize import sent_tokenize, word_tokenize\n",
    "import csv\n",
    "nltk.download ('punkt')\n",
    "\n"
   ]
  },
  {
   "cell_type": "code",
   "execution_count": 3,
   "id": "f986c4f6",
   "metadata": {},
   "outputs": [],
   "source": [
    "dict = {\"chr1\" : [],\n",
    "        \"chr2\" : [],\n",
    "        \"chr3\" : [],\n",
    "        \"chr4\" : [],\n",
    "        \"chr5\" : [],\n",
    "        \"chr6\" : [],\n",
    "        \"chr7\" : [],\n",
    "        \"chr8\" : [],\n",
    "        \"chr9\" : [],\n",
    "        \"chr10\" : [],\n",
    "        \"chr11\" : [],\n",
    "        \"chr12\" : [],\n",
    "        \"chr13\" : [],\n",
    "        \"chr14\" : [],\n",
    "        \"chr15\" : [],\n",
    "        \"chr16\" : [],\n",
    "        \"chr17\" : [],\n",
    "        \"chr18\" : [],\n",
    "        \"chr19\" : [],\n",
    "        \"chr20\" : [],\n",
    "        \"chr21\" : [],\n",
    "        \"chr22\" : [],\n",
    "        \"chrX\" : [],\n",
    "        \"chrY\" : [],        \n",
    "        }\n",
    "with open('output16.tsv', 'wt') as out_file:\n",
    "    tsv_writer = csv.writer(out_file, delimiter='\\t')\n",
    "    Event_read = open(\"asta.gtf\")\n",
    "    for row in Event_read:\n",
    "            arr = word_tokenize(row)\n",
    "            if  arr[0] == \"chr21\":\n",
    "                tsv_writer.writerow([arr[0], arr[3], arr[4]])\n",
    "                \n",
    "                \n"
   ]
  },
  {
   "cell_type": "code",
   "execution_count": 11,
   "id": "e33b1f50",
   "metadata": {},
   "outputs": [],
   "source": []
  },
  {
   "cell_type": "code",
   "execution_count": null,
   "id": "c1321e8d",
   "metadata": {},
   "outputs": [],
   "source": []
  },
  {
   "cell_type": "code",
   "execution_count": null,
   "id": "c33d11d5",
   "metadata": {},
   "outputs": [],
   "source": []
  }
 ],
 "metadata": {
  "kernelspec": {
   "display_name": "Python 3 (ipykernel)",
   "language": "python",
   "name": "python3"
  },
  "language_info": {
   "codemirror_mode": {
    "name": "ipython",
    "version": 3
   },
   "file_extension": ".py",
   "mimetype": "text/x-python",
   "name": "python",
   "nbconvert_exporter": "python",
   "pygments_lexer": "ipython3",
   "version": "3.9.13"
  }
 },
 "nbformat": 4,
 "nbformat_minor": 5
}
